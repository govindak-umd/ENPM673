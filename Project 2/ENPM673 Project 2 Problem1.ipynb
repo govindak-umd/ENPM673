{
 "cells": [
  {
   "cell_type": "code",
   "execution_count": 5,
   "metadata": {},
   "outputs": [],
   "source": [
    "#importing necessary libraries\n",
    "import cv2\n",
    "import numpy as np"
   ]
  },
  {
   "cell_type": "code",
   "execution_count": 6,
   "metadata": {},
   "outputs": [],
   "source": [
    "#fucntion to adjust the gamma value of the function\n",
    "def adjust_gamma(image, gamma=1.0):\n",
    "    invGamma = 1.0 / gamma\n",
    "    table = np.array([((i / 255.0) ** invGamma) * 255 for i in np.arange(0, 256)])\n",
    "    return cv2.LUT(image.astype(np.uint8), table.astype(np.uint8))"
   ]
  },
  {
   "cell_type": "code",
   "execution_count": 7,
   "metadata": {},
   "outputs": [],
   "source": [
    "#getting the video feed\n",
    "camera = cv2.VideoCapture('Night Drive - 2689.mp4')\n",
    "#checking if video is being played\n",
    "while(camera.isOpened()):\n",
    "    ret, frame = camera.read()\n",
    "    \n",
    "    #blurring the image\n",
    "    blurred_img = cv2.GaussianBlur(frame,(7,7),0)\n",
    "    \n",
    "    #converting the image to HSV \n",
    "    img2hsv = cv2.cvtColor(blurred_img, cv2.COLOR_BGR2HSV)\n",
    "    hsv_v = img2hsv[:,:,2]\n",
    "    #finding the CLAHE\n",
    "    clahe = cv2.createCLAHE(clipLimit=4.0, tileGridSize=(16,16))#increased values may cause noise\n",
    "    cl1 = clahe.apply(hsv_v)\n",
    "    #setting the gamma value, increased values may cause noise\n",
    "    gamma = 1.4\n",
    "    cl1= adjust_gamma(cl1, gamma=gamma)\n",
    "    #adding the last V layer back to the HSV image\n",
    "    img2hsv[:,:,2] = cl1\n",
    "    #converting back from HSV to BGR format\n",
    "    improved_image = cv2.cvtColor(img2hsv, cv2.COLOR_HSV2BGR)\n",
    "    #showing the image\n",
    "    cv2.imshow('improved_image',improved_image)\n",
    "    if cv2.waitKey(1) & 0xFF == ord('q'):\n",
    "        break\n",
    "#releasing the video feed\n",
    "camera.release()\n",
    "cv2.destroyAllWindows()"
   ]
  },
  {
   "cell_type": "code",
   "execution_count": null,
   "metadata": {},
   "outputs": [],
   "source": []
  }
 ],
 "metadata": {
  "kernelspec": {
   "display_name": "Python 3",
   "language": "python",
   "name": "python3"
  },
  "language_info": {
   "codemirror_mode": {
    "name": "ipython",
    "version": 3
   },
   "file_extension": ".py",
   "mimetype": "text/x-python",
   "name": "python",
   "nbconvert_exporter": "python",
   "pygments_lexer": "ipython3",
   "version": "3.7.3"
  }
 },
 "nbformat": 4,
 "nbformat_minor": 4
}
