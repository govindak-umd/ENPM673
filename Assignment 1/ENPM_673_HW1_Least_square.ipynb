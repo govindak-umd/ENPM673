{
 "cells": [
  {
   "cell_type": "markdown",
   "metadata": {},
   "source": [
    "# Homework 1 Solution Question 2"
   ]
  },
  {
   "cell_type": "code",
   "execution_count": 1,
   "metadata": {},
   "outputs": [],
   "source": [
    "#importing libraries\n",
    "import csv\n",
    "import numpy as np\n",
    "import matplotlib\n",
    "import matplotlib.pyplot as plt"
   ]
  },
  {
   "cell_type": "code",
   "execution_count": 2,
   "metadata": {},
   "outputs": [],
   "source": [
    "#opening the data files for data 1\n",
    "with open('data_1.csv') as csvfile:\n",
    "    x_1=[]\n",
    "    y_1=[]\n",
    "    readCSV = csv.reader(csvfile, delimiter=',')\n",
    "    for row in readCSV:\n",
    "        if row[0].isdigit() == True: #removing x and y\n",
    "            x_1.append(float(row[0]))\n",
    "            y_1.append(float(row[1]))"
   ]
  },
  {
   "cell_type": "code",
   "execution_count": 3,
   "metadata": {},
   "outputs": [],
   "source": [
    "#opening the data files for data 2\n",
    "with open('data_2.csv') as csvfile:\n",
    "    x_2=[]\n",
    "    y_2=[]\n",
    "    readCSV = csv.reader(csvfile, delimiter=',')\n",
    "    for row in readCSV:\n",
    "        if row[0].isdigit() == True: #removing x and y\n",
    "            x_2.append(float(row[0]))\n",
    "            y_2.append(float(row[1]))"
   ]
  },
  {
   "cell_type": "code",
   "execution_count": 4,
   "metadata": {
    "scrolled": true
   },
   "outputs": [
    {
     "data": {
      "text/plain": [
       "<matplotlib.collections.PathCollection at 0x24e471dc688>"
      ]
     },
     "execution_count": 4,
     "metadata": {},
     "output_type": "execute_result"
    },
    {
     "data": {
      "image/png": "[encoded data removed]",
      "text/plain": [
       "<Figure size 1080x288 with 2 Axes>"
      ]
     },
     "metadata": {
      "needs_background": "light"
     },
     "output_type": "display_data"
    }
   ],
   "source": [
    "#plotting graph 1\n",
    "fig = plt.figure(figsize=(15,4))\n",
    "plt.subplot(121)\n",
    "plt.xlabel('X Axis')\n",
    "plt.ylabel('Y Axis')\n",
    "plt.scatter(x_1,y_1,c='red')\n",
    "plt.title('Data 1')\n",
    "#plotting graph 2\n",
    "plt.subplot(122)\n",
    "plt.xlabel('X Axis')\n",
    "plt.ylabel('Y Axis')\n",
    "plt.title('Data 2')\n",
    "plt.scatter(x_2,y_2,c='pink')"
   ]
  },
  {
   "cell_type": "code",
   "execution_count": 5,
   "metadata": {},
   "outputs": [],
   "source": [
    "#Using total least square error"
   ]
  },
  {
   "cell_type": "code",
   "execution_count": 6,
   "metadata": {},
   "outputs": [],
   "source": [
    "#error calculation\n",
    "#all the tables that are necessary are written here \n",
    "x_1_p2 = []\n",
    "xy = []\n",
    "x_p2_y = []\n",
    "x_1_p3 = []\n",
    "x_1_p4 = []"
   ]
  },
  {
   "cell_type": "code",
   "execution_count": 7,
   "metadata": {},
   "outputs": [],
   "source": [
    "#adding all elements to the list\n",
    "for i in range(len(x_1)):\n",
    "    x_1_p2.append(float(x_1[i]**2))\n",
    "    xy.append(float(x_1[i]*y_1[i]))\n",
    "    x_p2_y.append(float((x_1[i]**2)*y_1[i]))\n",
    "    x_1_p3.append(float(x_1[i]**3))\n",
    "    x_1_p4.append(float(x_1[i]**4))"
   ]
  },
  {
   "cell_type": "code",
   "execution_count": 8,
   "metadata": {},
   "outputs": [],
   "source": [
    "#initializing all sums to zero\n",
    "sum_n = 0.0\n",
    "sum_x_1=0.0\n",
    "sum_y_1=0.0\n",
    "sum_x_1_p2 =0.0\n",
    "sum_xy =0.0\n",
    "sum_x_p2_y =0.0\n",
    "sum_x_1_p3 = 0.0\n",
    "sum_x_1_p4 =0.0\n",
    "\n",
    "#finding all sums in the table\n",
    "for i in range(len(x_1)):\n",
    "    sum_n = sum_n + i\n",
    "    sum_x_1=sum_x_1+x_1[i]\n",
    "    sum_y_1=sum_y_1+y_1[i]\n",
    "    sum_x_1_p2 =sum_x_1_p2 + x_1_p2[i]\n",
    "    sum_xy =sum_xy+xy[i]\n",
    "    sum_x_p2_y =sum_x_p2_y+x_p2_y[i]\n",
    "    sum_x_1_p3 = sum_x_1_p3+x_1_p3[i]\n",
    "    sum_x_1_p4 = sum_x_1_p4 + x_1_p4[i]\n"
   ]
  },
  {
   "cell_type": "code",
   "execution_count": 9,
   "metadata": {},
   "outputs": [],
   "source": [
    "#three equations to find a b and c are >>> \n",
    "\n",
    "# sum_y_1 = a*sum_x_1_p2 + b*sum_x_1 + c*sum_n\n",
    "# sum_xy = a*sum_x_1_p3 + b*sum_x_1_p2 + c*sum_x_1\n",
    "# sum_x_p2_y = a*sum_x_1_p4 + b*sum_x_1_p3 + c*sum_x_1_p2\n",
    "\n",
    "#just for showcasing the theory"
   ]
  },
  {
   "cell_type": "code",
   "execution_count": 10,
   "metadata": {
    "scrolled": true
   },
   "outputs": [],
   "source": [
    "#finding the solution for the above set of linear equations\n",
    "a= np.array([[sum_x_1_p2,sum_x_1,sum_n],[sum_x_1_p3,sum_x_1_p2,sum_x_1],[sum_x_1_p4,sum_x_1_p3,sum_x_1_p2]])\n",
    "b=np.array([sum_y_1,sum_xy,sum_x_p2_y])\n"
   ]
  },
  {
   "cell_type": "code",
   "execution_count": 11,
   "metadata": {},
   "outputs": [],
   "source": [
    "from numpy import linalg as LA\n",
    "def Compute_Svd(A):                              #function definition for svd calculation\n",
    "    AT=A.T                                       #transpose\n",
    "    AAT=A.dot(AT)\n",
    "    eigenvalue_U,eigenvector_U=LA.eig(AAT)\n",
    "    sort_val1 = eigenvalue_U.argsort()[::-1]\n",
    "    new_eigenvalue_U = eigenvalue_U[sort_val1]\n",
    "    new_eigenvector_U = eigenvector_U[:,sort_val1]\n",
    "    #temp = np.diag((np.sqrt(new_eigenvalue_U)))  #compute sigma matrix as a diagonal matrix with elements as square root of eigen values of U\n",
    "    #sigma = np.zeros_like(A).astype(np.float64)\n",
    "    #sigma[:temp.shape[0],:temp.shape[1]]=temp\n",
    "    temp_1 = np.diag((np.sqrt((1/new_eigenvalue_U))))  #compute sigma matrix as a diagonal matrix with elements as square root of eigen values of U\n",
    "    sigma_1 = np.zeros_like(A).astype(np.float64)\n",
    "    sigma_1[:temp_1.shape[0],:temp_1.shape[1]]=temp_1\n",
    "    VT_inter = sigma_1.dot(new_eigenvector_U.T)\n",
    "    VT = VT_inter.dot(A)\n",
    "    \n",
    "    return new_eigenvector_U,sigma_1,VT"
   ]
  },
  {
   "cell_type": "code",
   "execution_count": 12,
   "metadata": {},
   "outputs": [],
   "source": [
    "U,S_inv,VT = Compute_Svd(a)"
   ]
  },
  {
   "cell_type": "code",
   "execution_count": 13,
   "metadata": {},
   "outputs": [
    {
     "name": "stdout",
     "output_type": "stream",
     "text": [
      "Co-efficients= [-0.00131575  0.59081898 -0.04734542]\n"
     ]
    }
   ],
   "source": [
    "sol_1 = VT.T.dot(S_inv.dot(U.T.dot(b)))\n",
    "print(\"Co-efficients=\",sol_1)\n",
    "a = sol_1[0]\n",
    "b = sol_1[1]\n",
    "c = sol_1[2]"
   ]
  },
  {
   "cell_type": "code",
   "execution_count": 14,
   "metadata": {},
   "outputs": [
    {
     "data": {
      "image/png": "[encoded data removed]",
      "text/plain": [
       "<Figure size 720x288 with 1 Axes>"
      ]
     },
     "metadata": {
      "needs_background": "light"
     },
     "output_type": "display_data"
    }
   ],
   "source": [
    "y_new=[]#empty list \n",
    "\n",
    "for i in range(0,len(x_1)):\n",
    "    y = (a*(x_1[i]**2))+(b*x_1[i]) + c\n",
    "    y_new.append(y)\n",
    "    \n",
    "fig = plt.figure(figsize=(10,4))\n",
    "plt.xlabel('X Axis')\n",
    "plt.ylabel('Y Axis')\n",
    "plt.title('Data 1')\n",
    "plt.scatter(x_1,y_1,c='red')\n",
    "plt.text(400,100,'TLS Algorithm')\n",
    "plt.plot(x_1,y_new,'k')\n",
    "plt.show()"
   ]
  },
  {
   "cell_type": "code",
   "execution_count": 15,
   "metadata": {},
   "outputs": [],
   "source": [
    "#the end"
   ]
  },
  {
   "cell_type": "code",
   "execution_count": null,
   "metadata": {},
   "outputs": [],
   "source": []
  }
 ],
 "metadata": {
  "kernelspec": {
   "display_name": "Python 3",
   "language": "python",
   "name": "python3"
  },
  "language_info": {
   "codemirror_mode": {
    "name": "ipython",
    "version": 3
   },
   "file_extension": ".py",
   "mimetype": "text/x-python",
   "name": "python",
   "nbconvert_exporter": "python",
   "pygments_lexer": "ipython3",
   "version": "3.7.4"
  }
 },
 "nbformat": 4,
 "nbformat_minor": 4
}
