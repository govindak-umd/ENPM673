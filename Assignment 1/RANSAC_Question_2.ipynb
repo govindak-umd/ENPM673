{
 "cells": [
  {
   "cell_type": "code",
   "execution_count": 1,
   "metadata": {},
   "outputs": [],
   "source": [
    "#importing all the necessary libraries\n",
    "import csv \n",
    "import numpy as np\n",
    "import random\n",
    "from random import randint\n",
    "import math\n",
    "import matplotlib\n",
    "import matplotlib.pyplot as plt"
   ]
  },
  {
   "cell_type": "code",
   "execution_count": 2,
   "metadata": {},
   "outputs": [],
   "source": [
    "#reading the csv data file. can also be done using panda\n",
    "with open('data_2.csv') as csvfile:\n",
    "    x_2=[]#list of all the x coordinates\n",
    "    y_2=[]#list of all the y coordinates\n",
    "    readCSV = csv.reader(csvfile, delimiter=',')\n",
    "    for row in readCSV:\n",
    "        if row[0].isdigit() == True: #removing x and y\n",
    "            x_2.append(float(row[0]))\n",
    "            y_2.append(float(row[1]))"
   ]
  },
  {
   "cell_type": "code",
   "execution_count": 3,
   "metadata": {},
   "outputs": [],
   "source": [
    "#func to find shortest distance between two points\n",
    "def Distance_Calc(x_p,y_p,x,y):\n",
    "    dist = ((x_p-x)**2+(y_p-y)**2)**0.5 #formula to find the distance between any two points in cartesian coordinates\n",
    "    return(dist)"
   ]
  },
  {
   "cell_type": "code",
   "execution_count": 4,
   "metadata": {},
   "outputs": [],
   "source": [
    "#function to select random _X_points for testing\n",
    "def Select_Random(x_2,test_x_2,n):\n",
    "    for i in x_2:\n",
    "        test_x_2.append(i)\n",
    "    random.shuffle(test_x_2) #creating a random shuffled list of all the indices\n",
    "    test_x_2 = test_x_2[:n]#selecting the first n numbers from that list\n",
    "    return (test_x_2) #returning the randomly selected x coordinates of the parabola"
   ]
  },
  {
   "cell_type": "code",
   "execution_count": 5,
   "metadata": {},
   "outputs": [],
   "source": [
    "#function to get the y coord of those random x points\n",
    "def Test_y_Coord(x_2,y_2,test_x_2,test_y_2):\n",
    "    for i in k:\n",
    "        ind = x_2.index(i)\n",
    "        test_y_2.append(y_2[ind])\n",
    "    return (test_y_2)#returning the randomly selected y coordinates of the parabola"
   ]
  },
  {
   "cell_type": "code",
   "execution_count": 6,
   "metadata": {},
   "outputs": [],
   "source": [
    "#making the new x_2 points\n",
    "def New_x_Coord(l,b,d):\n",
    "    for i in l:\n",
    "        if i not in b:\n",
    "            d.append(i)\n",
    "    return(d) #returning the rest of the selected x coordinates NOT lying on the parabola"
   ]
  },
  {
   "cell_type": "code",
   "execution_count": 7,
   "metadata": {},
   "outputs": [],
   "source": [
    "#making the new y_2 points\n",
    "def New_y_Coord(x_2,y_2,f,new_y_2):\n",
    "    for i in f:\n",
    "        ind = x_2.index(i)\n",
    "        new_y_2.append(y_2[ind])\n",
    "    return (new_y_2)#returning the rest of the selected y coordinates NOT lying on the parabola"
   ]
  },
  {
   "cell_type": "code",
   "execution_count": 8,
   "metadata": {},
   "outputs": [],
   "source": [
    "main_distance=[]#empty list which stores all the distances calculated below\n",
    "main_k=[]#empty list which conatins all the main x coordinates selected for testing\n",
    "main_g=[]#empty list which conatins all the main y coordinates selected for testing"
   ]
  },
  {
   "cell_type": "code",
   "execution_count": 9,
   "metadata": {},
   "outputs": [
    {
     "name": "stdout",
     "output_type": "stream",
     "text": [
      "---------------\n",
      "FINAL >  0.020202020202020204\n",
      "1130\n",
      "---------------\n",
      "K is  [156.0, 258.0, 490.0, 356.0, 108.0, 32.0, 24.0, 4.0, 446.0, 402.0, 26.0, 422.0, 28.0, 338.0, 474.0, 416.0, 326.0, 174.0, 82.0, 164.0, 440.0, 424.0, 74.0, 102.0, 346.0, 436.0, 116.0, 464.0, 316.0, 246.0, 166.0, 110.0, 432.0, 306.0, 236.0, 130.0, 340.0, 114.0, 366.0, 344.0, 328.0, 332.0, 254.0, 382.0, 138.0, 100.0, 240.0, 172.0, 136.0, 46.0, 408.0, 342.0, 430.0, 404.0, 216.0, 230.0, 368.0, 126.0, 198.0, 84.0, 386.0, 470.0, 124.0, 222.0, 58.0, 122.0, 168.0, 494.0, 10.0, 476.0, 226.0, 454.0, 268.0, 18.0, 188.0, 250.0, 72.0, 228.0, 78.0, 472.0, 318.0, 6.0, 194.0, 248.0, 20.0, 294.0, 392.0, 396.0, 48.0, 310.0, 104.0, 456.0, 482.0, 390.0, 466.0, 354.0, 186.0, 336.0, 134.0]\n",
      "---------------\n",
      "G is  [47.92328727, 76.48884076, -44.89003018, 68.31642988, 35.59372013, -41.66845472, -36.80150051, -58.97612903, -14.73052498, 9.187654522, -20.0610459, 33.61402653, -33.91772007, 42.49992923, -50.16627159, 27.40376704, 54.06980071, 82.84425229, -1.813598426, 53.27633722, 11.27785132, 21.38585549, 27.092233, 151.0, 78.28510613, 28.681125, 41.22913221, -16.17560757, 71.39281905, 91.44080694, 67.04077778, 56.04576631, 5.019883583, 168.0, 61.79607085, 34.44714561, 49.97016661, 46.11047235, 62.02553433, 33.66225506, 38.09781073, 69.60944444, 86.78767791, 33.3694053, 58.31989171, 150.0, 92.1215516, 48.98332682, 43.61264834, -20.24158231, 11.30761823, 73.07127522, 28.04156972, 49.5507712, 222.0, 77.81888394, 31.6779689, 52.24649993, 180.0, 17.37812179, 252.0, -44.39661967, 20.21248393, 78.31283191, 81.0, 43.53633916, 78.54108956, -65.27725754, -17.62328837, -39.70879071, 85.35511547, -20.88116285, 50.09849438, -40.95763696, 180.0, 75.31399997, 18.02086892, 98.85056409, 21.62157483, -44.91988124, 88.90747293, -31.4533867, 180.0, 95.47796784, -31.77979604, 57.20512745, 353.0, 262.0, -11.8815442, 172.0, 126.0, -33.98339425, -14.41612071, 300.0, -18.26348283, 77.10922267, 180.0, 47.99956307, 38.68027621]\n"
     ]
    }
   ],
   "source": [
    "for num in range(10000):  \n",
    "    test_x_2=[] #empty list with this loops set of x coordinates for testing\n",
    "    test_y_2=[]#empty list with this loops set of y coordinates for testing\n",
    "    p=[]\n",
    "    new_y_2=[] #empty list with new y coordinates for this loop\n",
    "    distance=[]#empty list with the distance between the points on the parabola\n",
    "    #chosen for testing and the outliers\n",
    "    j=randint(5,99)#can use to select j points of x coordinates\n",
    "    k = Select_Random(x_2,test_x_2,j) #selecting 99 points. Insert j for j times. Will change with every loop\n",
    "    main_k.append(k) #adding to the main directory of k ' s'\n",
    "    g = Test_y_Coord(x_2,y_2,test_x_2,test_y_2)\n",
    "    main_g.append(g) #adding to the main directory of g ' s'\n",
    "    f = New_x_Coord(x_2,k,p)#outlying set of x coordinates\n",
    "    u = New_y_Coord(x_2,y_2,f,new_y_2)#outlying set of y coordinates\n",
    "    for i in range(len(k)):\n",
    "        d = Distance_Calc(k[i],g[i],f[i],u[i])#calculating the distance of every point\n",
    "        distance.append(d)\n",
    "    distance.sort()#ascending order of all distances\n",
    "    \n",
    "    #percentile calculation for determining the threshold of distance\n",
    "    #have chosen 4 percentile here\n",
    "    x = (1/100)*len(distance) #1th percentile\n",
    "    x=math.ceil(x)#upper whole number integer value of the raank/cutoff\n",
    "    \n",
    "    #finding the lowest mean of distance\n",
    "    sum=0\n",
    "    for d in distance[:x]:\n",
    "        sum+=d\n",
    "    distance_mean=float(sum/len(distance))\n",
    "    main_distance.append(distance_mean) #mean of all the distances\n",
    "\n",
    "m = min(main_distance)\n",
    "ind = main_distance.index(m) #index of the minimum distance \n",
    "print('---------------')\n",
    "print('FINAL > ', m)\n",
    "print(ind)\n",
    "print('---------------')\n",
    "print('K is ', main_k[ind])\n",
    "print('---------------')\n",
    "print('G is ', main_g[ind])\n",
    "x_1=main_k[ind]#list of the x coordinates selected for making the parabola in this loop\n",
    "y_1=main_g[ind]#list of the y coordinates selected for making the parabola in this loop"
   ]
  },
  {
   "cell_type": "code",
   "execution_count": 10,
   "metadata": {},
   "outputs": [],
   "source": [
    "dic = dict(zip(x_1,y_1)) #dictionary with the x and y coordinates as keys and values"
   ]
  },
  {
   "cell_type": "code",
   "execution_count": 11,
   "metadata": {},
   "outputs": [],
   "source": [
    "x_1 = sorted(dic.keys()) #sorting the x coordinates in ascending order"
   ]
  },
  {
   "cell_type": "code",
   "execution_count": 12,
   "metadata": {},
   "outputs": [],
   "source": [
    "y_1 = [] #matching the y coordinates \n",
    "for i in range(len(x_1)):\n",
    "    y_1.append(dic[x_1[i]])"
   ]
  },
  {
   "cell_type": "code",
   "execution_count": 13,
   "metadata": {},
   "outputs": [],
   "source": [
    "#drawing the parabola"
   ]
  },
  {
   "cell_type": "code",
   "execution_count": 14,
   "metadata": {},
   "outputs": [],
   "source": [
    "#error calculation\n",
    "#all the tables that are necessary are written here \n",
    "x_1_p2 = []\n",
    "xy = []\n",
    "x_p2_y = []\n",
    "x_1_p3 = []\n",
    "x_1_p4 = []\n",
    "#adding all elements to the list\n",
    "for i in range(len(x_1)):\n",
    "    x_1_p2.append(float(x_1[i]**2))\n",
    "    xy.append(float(x_1[i]*y_1[i]))\n",
    "    x_p2_y.append(float((x_1[i]**2)*y_1[i]))\n",
    "    x_1_p3.append(float(x_1[i]**3))\n",
    "    x_1_p4.append(float(x_1[i]**4))\n",
    "#initializing all sums to zero\n",
    "sum_n = 0.0\n",
    "sum_x_1=0.0\n",
    "sum_y_1=0.0\n",
    "sum_x_1_p2 =0.0\n",
    "sum_xy =0.0\n",
    "sum_x_p2_y =0.0\n",
    "sum_x_1_p3 = 0.0\n",
    "sum_x_1_p4 =0.0\n",
    "#finding all sums in the table\n",
    "for i in range(len(x_1)):\n",
    "    sum_n = sum_n + i\n",
    "    sum_x_1=sum_x_1+x_1[i]\n",
    "    sum_y_1=sum_y_1+y_1[i]\n",
    "    sum_x_1_p2 =sum_x_1_p2 + x_1_p2[i]\n",
    "    sum_xy =sum_xy+xy[i]\n",
    "    sum_x_p2_y =sum_x_p2_y+x_p2_y[i]\n",
    "    sum_x_1_p3 = sum_x_1_p3+x_1_p3[i]\n",
    "    sum_x_1_p4 = sum_x_1_p4 + x_1_p4[i]"
   ]
  },
  {
   "cell_type": "code",
   "execution_count": 15,
   "metadata": {},
   "outputs": [],
   "source": [
    "#three equations to find a b and c are >>> \n",
    "\n",
    "# sum_y_1 = a*sum_x_1_p2 + b*sum_x_1 + c*sum_n\n",
    "# sum_xy = a*sum_x_1_p3 + b*sum_x_1_p2 + c*sum_x_1\n",
    "# sum_x_p2_y = a*sum_x_1_p4 + b*sum_x_1_p3 + c*sum_x_1_p2\n",
    "\n",
    "#written here just for a reference to the theory"
   ]
  },
  {
   "cell_type": "code",
   "execution_count": 16,
   "metadata": {},
   "outputs": [],
   "source": [
    "a= np.array([[sum_x_1_p2,sum_x_1,sum_n],\n",
    "             [sum_x_1_p3,sum_x_1_p2,sum_x_1],\n",
    "             [sum_x_1_p4,sum_x_1_p3,sum_x_1_p2]])  #3X3 Matrix\n",
    "b=np.array([sum_y_1,\n",
    "            sum_xy,\n",
    "            sum_x_p2_y])                           #3X1 Matrix"
   ]
  },
  {
   "cell_type": "code",
   "execution_count": 17,
   "metadata": {},
   "outputs": [],
   "source": [
    "from numpy import linalg as LA\n",
    "def Compute_Svd(A):                              #function definition for svd calculation\n",
    "    AT=A.T                                       #transpose\n",
    "    AAT=A.dot(AT)\n",
    "    eigenvalue_U,eigenvector_U=LA.eig(AAT)\n",
    "    sort_val1 = eigenvalue_U.argsort()[::-1]\n",
    "    new_eigenvalue_U = eigenvalue_U[sort_val1]\n",
    "    new_eigenvector_U = eigenvector_U[:,sort_val1]\n",
    "    #temp = np.diag((np.sqrt(new_eigenvalue_U)))  #compute sigma matrix as a diagonal matrix with elements as square root of eigen values of U\n",
    "    #sigma = np.zeros_like(A).astype(np.float64)\n",
    "    #sigma[:temp.shape[0],:temp.shape[1]]=temp\n",
    "    temp_1 = np.diag((np.sqrt((1/new_eigenvalue_U))))  #compute sigma matrix as a diagonal matrix with elements as square root of eigen values of U\n",
    "    sigma_1 = np.zeros_like(A).astype(np.float64)\n",
    "    sigma_1[:temp_1.shape[0],:temp_1.shape[1]]=temp_1\n",
    "    VT_inter = sigma_1.dot(new_eigenvector_U.T)\n",
    "    VT = VT_inter.dot(A)\n",
    "    \n",
    "    return new_eigenvector_U,sigma_1,VT"
   ]
  },
  {
   "cell_type": "code",
   "execution_count": 18,
   "metadata": {},
   "outputs": [],
   "source": [
    "U,S_inv,VT = Compute_Svd(a)"
   ]
  },
  {
   "cell_type": "code",
   "execution_count": 19,
   "metadata": {},
   "outputs": [
    {
     "name": "stdout",
     "output_type": "stream",
     "text": [
      "Co-efficients= [-0.00183976  0.8627293  -0.13586622]\n"
     ]
    }
   ],
   "source": [
    "sol_1 = VT.T.dot(S_inv.dot(U.T.dot(b)))\n",
    "print(\"Co-efficients=\",sol_1)\n",
    "a = sol_1[0]\n",
    "b = sol_1[1]\n",
    "c = sol_1[2]"
   ]
  },
  {
   "cell_type": "code",
   "execution_count": 20,
   "metadata": {},
   "outputs": [
    {
     "data": {
      "image/png": "[encoded data removed]",
      "text/plain": [
       "<Figure size 720x288 with 1 Axes>"
      ]
     },
     "metadata": {
      "needs_background": "light"
     },
     "output_type": "display_data"
    },
    {
     "name": "stdout",
     "output_type": "stream",
     "text": [
      "The loop ran  9999  times.\n"
     ]
    }
   ],
   "source": [
    "y_new=[] #new empty list of the y coordinates needed to draw the parabola\n",
    "\n",
    "for i in range(0,len(x_1)):\n",
    "    y = (a*(x_1[i]**2))+(b*x_1[i]) + c\n",
    "    y_new.append(y)\n",
    "    \n",
    "fig = plt.figure(figsize=(10,4)) #empty figure\n",
    "plt.xlabel('X Axis') #writing the x label\n",
    "plt.ylabel('Y Axis') #writing the y label\n",
    "plt.title('Data 2') #writing the Graph Title\n",
    "plt.scatter(x_2,y_2,c='c')\n",
    "plt.text(400,300,'RANSAC Algorithm')\n",
    "plt.plot(x_1,y_new,'k') #drawing the black parabola\n",
    "plt.show() #show the graph\n",
    "print('The loop ran ', num,' times.') #indicating the number of times the iteration loop has run to get the best possible parabola"
   ]
  },
  {
   "cell_type": "code",
   "execution_count": 21,
   "metadata": {},
   "outputs": [],
   "source": [
    "#the end"
   ]
  },
  {
   "cell_type": "code",
   "execution_count": null,
   "metadata": {},
   "outputs": [],
   "source": []
  },
  {
   "cell_type": "code",
   "execution_count": null,
   "metadata": {},
   "outputs": [],
   "source": []
  }
 ],
 "metadata": {
  "kernelspec": {
   "display_name": "Python 3",
   "language": "python",
   "name": "python3"
  },
  "language_info": {
   "codemirror_mode": {
    "name": "ipython",
    "version": 3
   },
   "file_extension": ".py",
   "mimetype": "text/x-python",
   "name": "python",
   "nbconvert_exporter": "python",
   "pygments_lexer": "ipython3",
   "version": "3.7.4"
  }
 },
 "nbformat": 4,
 "nbformat_minor": 4
}
