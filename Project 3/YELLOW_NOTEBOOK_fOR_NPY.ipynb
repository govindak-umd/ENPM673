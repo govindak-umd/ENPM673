{
 "cells": [
  {
   "cell_type": "code",
   "execution_count": 1,
   "metadata": {},
   "outputs": [],
   "source": [
    "import cv2\n",
    "import numpy as np\n",
    "from matplotlib import pyplot as plt\n",
    "from pathlib import Path\n",
    "import os\n",
    "import time\n",
    "import pylab as pl\n",
    "from scipy.stats import multivariate_normal\n",
    "from PIL import Image\n",
    "import glob\n",
    "from os import listdir\n",
    "from PIL import Image as PImage\n",
    "import imageio\n",
    "import imutils\n",
    "from imutils import contours"
   ]
  },
  {
   "cell_type": "code",
   "execution_count": 2,
   "metadata": {},
   "outputs": [],
   "source": [
    "#Generate data\n",
    "def image_points():\n",
    "    #creat a list to store pixel intensities\n",
    "    image_pixels = []\n",
    "    #read the trained images from the train folder\n",
    "    for image_path in glob.glob(\"buoy_Yellow\\\\Train\\\\*.png\"):\n",
    "        img = imageio.imread(image_path)\n",
    "        #read pixels from green and red channel\n",
    "        image_1 = img[:,:,1].ravel()\n",
    "        image_2 = img[:,:,0].ravel()\n",
    "        image = np.concatenate((image_1,image_2),axis=0)\n",
    "        #combine the two channels and reshape it 1 channel\n",
    "        image = np.reshape(image,(image.shape[0],1))\n",
    "        r, c = image.shape\n",
    "        for j in range(0, r):\n",
    "            for m in range(0, c):\n",
    "                im = image[j][m]\n",
    "                image_pixels.append(im)\n",
    "    image_pixels = np.array(image_pixels)\n",
    "    #reshape it to 1-D array\n",
    "    data  = np.reshape(image_pixels,(len(image_pixels),1))\n",
    "    return data"
   ]
  },
  {
   "cell_type": "code",
   "execution_count": 3,
   "metadata": {},
   "outputs": [
    {
     "data": {
      "text/plain": [
       "(29278, 1)"
      ]
     },
     "execution_count": 3,
     "metadata": {},
     "output_type": "execute_result"
    }
   ],
   "source": [
    "data = image_points()\n",
    "K = 2\n",
    "data.shape"
   ]
  },
  {
   "cell_type": "code",
   "execution_count": 4,
   "metadata": {},
   "outputs": [
    {
     "name": "stdout",
     "output_type": "stream",
     "text": [
      "initial mean= [[205.]\n",
      " [240.]]\n",
      "initial covar= [array([[205.81858423]]), array([[80.13080465]])]\n",
      "initial weights= [0.5, 0.5]\n"
     ]
    }
   ],
   "source": [
    "#generate initial parameters\n",
    "def initial_parameters(data,K):    \n",
    "    row,col = data.shape\n",
    "    #initialize mean values reandomly from the distribution\n",
    "    mean = np.array(data[np.random.choice(row,K)],np.float64)\n",
    "    #initialize an identity matrix\n",
    "    covar = [np.random.randint(1,255)*np.eye(col)]*K\n",
    "    for sig in range(K):\n",
    "        covar[sig]=np.multiply(covar[sig],np.random.rand(col,col))\n",
    "    #initialize prior probablities equally such that sum is 1\n",
    "    weights = [1./K]*K\n",
    "    return mean,covar,weights\n",
    "mean,covar,weights = initial_parameters(data,K)\n",
    "\n",
    "print(\"initial mean=\",mean)\n",
    "print(\"initial covar=\",covar)\n",
    "print(\"initial weights=\",weights)"
   ]
  },
  {
   "cell_type": "code",
   "execution_count": 5,
   "metadata": {},
   "outputs": [],
   "source": [
    "def train_GMM(data,K,mean,covar,weights):\n",
    "    row,col = data.shape\n",
    "    likelihood_prob = np.zeros((row,K))\n",
    "    #create a list to store log_likelihood values\n",
    "    log_likelihood = 0\n",
    "    log_likelihood_values = []\n",
    "    iterations_completed = 0\n",
    "    #define a limit to max no if iterations\n",
    "    max_iterations = 1000\n",
    "    while(iterations_completed<max_iterations):\n",
    "        prev_log = log_likelihood\n",
    "        iterations_completed+=1\n",
    "        ######## Expectaion Step##########\n",
    "        # For summation, axis = 1 -> sum along clusters\n",
    "        #  axis = 0 -> sum along the data points\n",
    "        for i in range(K): \n",
    "            #calulate the likelihood probablity (Numerator in the formula)\n",
    "            likelihood_prob_a = multivariate_normal.pdf(data,mean[i],covar[i]) * weights[i]\n",
    "            likelihood_prob[:,i] = np.array(likelihood_prob_a)\n",
    "        #caclulate the log likelihood by summating the likelihood probabilities for Maximum likelihood Estimation\n",
    "        log_likelihood = np.sum(np.log(np.sum(likelihood_prob, axis = 1)))\n",
    "        log_likelihood_values.append(log_likelihood)\n",
    "        #calculate the sum of the likelihood probabilities along all the clusters (Denominator in the formula)\n",
    "        evidence = np.sum(likelihood_prob,axis = 1)\n",
    "        #Divide the numerator and denominator for posterior ie. given the points calculate the prob that the points belong to cluster Cj\n",
    "        posterior_T = likelihood_prob.T/evidence\n",
    "        posterior = posterior_T.T\n",
    "        #calculate the posterior sum for mean updation\n",
    "        posterior_sum = np.sum(posterior,axis=0)\n",
    "        \n",
    "        ######### Maximazation Step###########\n",
    "        for j in range(K):\n",
    "            #update values\n",
    "            #sum of posterior probablities x data / sum of posterior probablities\n",
    "            mean[j] = 1. / posterior_sum[j] * np.sum(posterior[:, j] * data.T, axis = 1).T\n",
    "            x_mean = data - mean[j]\n",
    "            #covariance matrox - (sum of posterior * (data-mean).T* (data-mean))/sum of posterior\n",
    "            covar[j] = np.array(1./ posterior_sum[j] * np.dot(np.multiply(x_mean.T,  posterior[:, j]), x_mean))\n",
    "            #sum of posterior/ no. of data points\n",
    "            weights[j] = (1. / row) * posterior_sum[j]\n",
    "            \n",
    "        if np.abs(log_likelihood - prev_log) < 0.0001:\n",
    "            print(\"Converged\")\n",
    "            print(\"iterations_completed=\",iterations_completed)\n",
    "            #plotting the likelihood graph\n",
    "            plt.plot(log_likelihood_values)\n",
    "            plt.title(\"Log-likelihood vs Iterations\")\n",
    "            return mean,covar,weights\n",
    "            break"
   ]
  },
  {
   "cell_type": "code",
   "execution_count": 6,
   "metadata": {},
   "outputs": [
    {
     "name": "stdout",
     "output_type": "stream",
     "text": [
      "Converged\n",
      "iterations_completed= 24\n",
      "updated parameters= [[208.26111721]\n",
      " [234.56267337]] [array([[474.83677451]]), array([[38.1822105]])] [0.15195103322813888, 0.8480489667719315]\n"
     ]
    },
    {
     "data": {
      "image/png": "[encoded data removed]",
      "text/plain": [
       "<Figure size 432x288 with 1 Axes>"
      ]
     },
     "metadata": {
      "needs_background": "light"
     },
     "output_type": "display_data"
    }
   ],
   "source": [
    "#calculate the optimal cluster paramters\n",
    "updated_mean,updated_covar,updated_weights = train_GMM(data,K,mean,covar,weights)\n",
    "np.save('yellow_means.npy',updated_mean)\n",
    "np.save('yellow_covar.npy',updated_covar)\n",
    "np.save('yellow_weights.npy',updated_weights)\n",
    "print(\"updated parameters=\",updated_mean,updated_covar,updated_weights)"
   ]
  },
  {
   "cell_type": "code",
   "execution_count": 7,
   "metadata": {},
   "outputs": [
    {
     "name": "stdout",
     "output_type": "stream",
     "text": [
      "Exit!\n"
     ]
    }
   ],
   "source": [
    "#read the video\n",
    "cap = cv2.VideoCapture(\"detectbuoy.avi\")\n",
    "images = []\n",
    "prev_cnts = 0\n",
    "while (cap.isOpened()):\n",
    "    #check if frame read is true\n",
    "    ret, frame = cap.read()\n",
    "    if ret == False:\n",
    "        print(\"Exit!\")\n",
    "        cv2.destroyAllWindows()\n",
    "        break    \n",
    "    \n",
    "    curr_image = frame\n",
    "    img_x = curr_image.shape[0]\n",
    "    img_y = curr_image.shape[1]\n",
    "    image_1 = curr_image[:,:,1].ravel()\n",
    "    image_2 = curr_image[:,:,2].ravel()\n",
    "    image = np.concatenate((image_1,image_2),axis=0)\n",
    "    img = np.reshape(image,(image.shape[0],1))\n",
    "    prob = np.zeros((img.shape[0],K))\n",
    "    likelihood = np.zeros((img.shape[0],K))\n",
    "    for j in range(K):\n",
    "        #calculate the likelihood\n",
    "        prob[:,j] = updated_weights[j]*multivariate_normal.pdf(img,updated_mean[j],updated_covar[j])\n",
    "        likelihood = prob.sum(1)\n",
    "    #calculate the prob sum which is a 1d array\n",
    "    sum_prob = np.sum(prob, axis = 1)\n",
    "    green_prob = sum_prob[:img_x*img_y]\n",
    "    red_prob = sum_prob[img_x*img_y:]    \n",
    "    combined_prob = np.add(green_prob,red_prob)    \n",
    "    combined_prob[red_prob>np.max(red_prob)/1.2] = 255\n",
    "    output = np.zeros_like(frame)\n",
    "    pixel_prob =  np.reshape(combined_prob,(img_x,img_y))\n",
    "    #Assign the calulated probablities to every pixel in the red channel and green channel\n",
    "    output[:,:,2]= pixel_prob\n",
    "    output[:,:,1]= pixel_prob\n",
    "    #blur = cv2.GaussianBlur(output,(5,5),0)\n",
    "    #Do filtering and edge detection to detect the buoys\n",
    "    blur = cv2.medianBlur(output,5)\n",
    "    edged = cv2.Canny(blur,20,255 )\n",
    "    cv2.imshow(\"Edge detection- Canny\",edged)\n",
    "    #Detect contours with circle shape\n",
    "    cnts,h = cv2.findContours(edged, cv2.RETR_TREE, cv2.CHAIN_APPROX_SIMPLE)\n",
    "    try:  \n",
    "        (cnts_sorted, boundingBoxes) = contours.sort_contours(cnts)\n",
    "        prev_cnts = cnts\n",
    "    except:\n",
    "        (cnts_sorted, boundingBoxes) = contours.sort_contours(prev_cnts)\n",
    "    hull = cv2.convexHull(cnts_sorted[0])\n",
    "    (x,y),radius = cv2.minEnclosingCircle(hull)\n",
    "    #if greater than a threshold radius, display the detected buoy\n",
    "    if radius > 5:\n",
    "        #draw circle over the buoy\n",
    "        cv2.circle(curr_image,(int(x),int(y)),int(radius+3),(0,200,255),8)\n",
    "        reshaped = cv2.resize(curr_image,(640,480),interpolation=cv2.INTER_LINEAR)\n",
    "        cv2.imshow(\"Yellow detected\",reshaped)\n",
    "        images.append(reshaped)\n",
    "    else:\n",
    "        reshaped = cv2.resize(curr_image,(640,480),interpolation=cv2.INTER_LINEAR)\n",
    "        cv2.imshow(\"Yellow detected\",reshaped)\n",
    "        images.append(reshaped)\n",
    "   \n",
    "    if cv2.waitKey(10) == 27:\n",
    "        cv2.destroyAllWindows()# exit if Escape is hit\n",
    "        break\n",
    "\n",
    "#Save the video file in .avi\n",
    "out = cv2.VideoWriter('Yellow_1D.avi', cv2.VideoWriter_fourcc(*'XVID'), 5.0, (640, 480))\n",
    "for image in images:\n",
    "    out.write(image)\n",
    "    cv2.waitKey(10)\n",
    "\n",
    "\n",
    "out.release()\n",
    "    \n",
    "cap.release()   "
   ]
  },
  {
   "cell_type": "code",
   "execution_count": null,
   "metadata": {},
   "outputs": [],
   "source": []
  }
 ],
 "metadata": {
  "kernelspec": {
   "display_name": "Python 3",
   "language": "python",
   "name": "python3"
  },
  "language_info": {
   "codemirror_mode": {
    "name": "ipython",
    "version": 3
   },
   "file_extension": ".py",
   "mimetype": "text/x-python",
   "name": "python",
   "nbconvert_exporter": "python",
   "pygments_lexer": "ipython3",
   "version": "3.7.6"
  }
 },
 "nbformat": 4,
 "nbformat_minor": 4
}
