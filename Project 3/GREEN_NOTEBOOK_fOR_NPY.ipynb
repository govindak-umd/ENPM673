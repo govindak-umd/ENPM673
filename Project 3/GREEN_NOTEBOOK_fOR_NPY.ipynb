{
 "cells": [
  {
   "cell_type": "code",
   "execution_count": 2,
   "metadata": {},
   "outputs": [],
   "source": [
    "import cv2\n",
    "import numpy as np\n",
    "from matplotlib import pyplot as plt\n",
    "from pathlib import Path\n",
    "import os\n",
    "import time\n",
    "import pylab as pl\n",
    "from scipy.stats import multivariate_normal\n",
    "from roipoly import roipoly\n",
    "from PIL import Image\n",
    "import glob\n",
    "from os import listdir\n",
    "from PIL import Image as PImage\n",
    "import imageio\n",
    "import imutils\n",
    "from imutils import contours"
   ]
  },
  {
   "cell_type": "code",
   "execution_count": 3,
   "metadata": {},
   "outputs": [],
   "source": [
    "#Generate data\n",
    "def image_points():\n",
    "    image_pixels = []\n",
    "    #read the trained images from the train folder\n",
    "    for image_path in glob.glob(\"buoy_Green\\\\Train\\\\*.png\"):\n",
    "        img = imageio.imread(image_path)\n",
    "        green_values = img[:,:,1]\n",
    "        #read pixel intensities from green channel\n",
    "        r, c = green_values.shape\n",
    "        for j in range(0, r):\n",
    "            for m in range(0, c):\n",
    "                im = green_values[j][m]\n",
    "                image_pixels.append(im)\n",
    "    image_pixels = np.array(image_pixels)\n",
    "    #reshape it to 1-D array\n",
    "    data  = np.reshape(image_pixels,(len(image_pixels),1))\n",
    "    return data"
   ]
  },
  {
   "cell_type": "code",
   "execution_count": 4,
   "metadata": {},
   "outputs": [],
   "source": [
    "data = image_points()\n",
    "K = 3"
   ]
  },
  {
   "cell_type": "code",
   "execution_count": 5,
   "metadata": {},
   "outputs": [
    {
     "name": "stdout",
     "output_type": "stream",
     "text": [
      "initial mean= [[220.]\n",
      " [187.]\n",
      " [244.]]\n",
      "initial covar= [array([[32.39021373]]), array([[45.18958887]]), array([[53.51519005]])]\n",
      "initial weights= [0.3333333333333333, 0.3333333333333333, 0.3333333333333333]\n"
     ]
    }
   ],
   "source": [
    "#generate initial parameters\n",
    "def initial_parameters(data,K):    \n",
    "    row,col = data.shape\n",
    "    #initialize mean values reandomly from the distribution\n",
    "    mean = np.array(data[np.random.choice(row,K)],np.float64)\n",
    "    #initialize an identity matrix\n",
    "    covar = [np.random.randint(1,255)*np.eye(col)]*K\n",
    "    for sig in range(K):\n",
    "        covar[sig]=np.multiply(covar[sig],np.random.rand(col,col))\n",
    "    #initialize prior probablities equally such that sum is 1\n",
    "    weights = [1./K]*K\n",
    "    return mean,covar,weights\n",
    "mean,covar,weights = initial_parameters(data,K)\n",
    "\n",
    "print(\"initial mean=\",mean)\n",
    "print(\"initial covar=\",covar)\n",
    "print(\"initial weights=\",weights)"
   ]
  },
  {
   "cell_type": "code",
   "execution_count": 6,
   "metadata": {},
   "outputs": [],
   "source": [
    "#Training function - updation of Parameters\n",
    "def train_GMM(data,K,mean,covar,weights):\n",
    "    row,col = data.shape\n",
    "    likelihood_prob = np.zeros((row,K))\n",
    "    #create a list to store log_likelihood values\n",
    "    log_likelihood = 0\n",
    "    log_likelihood_values = []\n",
    "    iterations_completed = 0\n",
    "    #define a limit to max no if iterations\n",
    "    max_iterations = 1000\n",
    "    while(iterations_completed<max_iterations):\n",
    "        prev_log = log_likelihood\n",
    "        iterations_completed+=1\n",
    "        ######## Expectaion Step##########\n",
    "        # For summation, axis = 1 -> sum along clusters\n",
    "        #  axis = 0 -> sum along the data points\n",
    "        for i in range(K): \n",
    "            #calulate the likelihood probablity (Numerator in the formula)\n",
    "            likelihood_prob_a = multivariate_normal.pdf(data,mean[i],covar[i]) * weights[i]\n",
    "            likelihood_prob[:,i] = np.array(likelihood_prob_a)\n",
    "        #caclulate the log likelihood by summating the likelihood probabilities for Maximum likelihood Estimation\n",
    "        log_likelihood = np.sum(np.log(np.sum(likelihood_prob, axis = 1)))\n",
    "        log_likelihood_values.append(log_likelihood)\n",
    "        #calculate the sum of the likelihood probabilities along all the clusters (Denominator in the formula)\n",
    "        evidence = np.sum(likelihood_prob,axis = 1)\n",
    "        #Divide the numerator and denominator for posterior ie. given the points calculate the prob that the points belong to cluster Cj\n",
    "        posterior_T = likelihood_prob.T/evidence\n",
    "        posterior = posterior_T.T\n",
    "        #calculate the posterior sum for mean updation\n",
    "        posterior_sum = np.sum(posterior,axis=0)\n",
    "        \n",
    "        ######### Maximazation Step###########\n",
    "        for j in range(K):\n",
    "            #update values\n",
    "            #sum of posterior probablities x data / sum of posterior probablities\n",
    "            mean[j] = 1. / posterior_sum[j] * np.sum(posterior[:, j] * data.T, axis = 1).T\n",
    "            x_mean = data - mean[j]\n",
    "            #covariance matrox - (sum of posterior * (data-mean).T* (data-mean))/sum of posterior\n",
    "            covar[j] = np.array(1./ posterior_sum[j] * np.dot(np.multiply(x_mean.T,  posterior[:, j]), x_mean))\n",
    "            #sum of posterior/ no. of data points\n",
    "            weights[j] = (1. / row) * posterior_sum[j]\n",
    "            \n",
    "        if np.abs(log_likelihood - prev_log) < 0.0001:\n",
    "            print(\"Converged\")\n",
    "            print(\"iterations_completed=\",iterations_completed)\n",
    "            #plotting the likelihood graph\n",
    "            plt.plot(log_likelihood_values)\n",
    "            plt.title(\"Log-likelihood vs Iterations\")\n",
    "            return mean,covar,weights\n",
    "            break\n"
   ]
  },
  {
   "cell_type": "code",
   "execution_count": 7,
   "metadata": {
    "scrolled": false
   },
   "outputs": [
    {
     "name": "stdout",
     "output_type": "stream",
     "text": [
      "Converged\n",
      "iterations_completed= 361\n",
      "updated parameters= [[225.74857795]\n",
      " [193.96103726]\n",
      " [243.25952455]] [array([[117.60104447]]), array([[396.52014984]]), array([[26.79732722]])] [0.2072970181507683, 0.45798368202582224, 0.3347192998234225]\n"
     ]
    },
    {
     "data": {
      "image/png": "[encoded data removed]",
      "text/plain": [
       "<Figure size 432x288 with 1 Axes>"
      ]
     },
     "metadata": {
      "needs_background": "light"
     },
     "output_type": "display_data"
    }
   ],
   "source": [
    "#calculate the optimal cluster paramters\n",
    "updated_mean,updated_covar,updated_weights = train_GMM(data,K,mean,covar,weights)\n",
    "np.save('green_means.npy',updated_mean)\n",
    "np.save('green_covar.npy',updated_covar)\n",
    "np.save('green_weights.npy',updated_weights)\n",
    "print(\"updated parameters=\",updated_mean,updated_covar,updated_weights)"
   ]
  },
  {
   "cell_type": "code",
   "execution_count": null,
   "metadata": {},
   "outputs": [],
   "source": []
  },
  {
   "cell_type": "code",
   "execution_count": 10,
   "metadata": {},
   "outputs": [
    {
     "name": "stdout",
     "output_type": "stream",
     "text": [
      "10 7.071167945861816\n",
      "8 7.0907745361328125\n",
      "11 7.159010887145996\n",
      "13 7.1700520515441895\n",
      "9 7.159010887145996\n",
      "9 7.071167945861816\n",
      "Exit!\n"
     ]
    }
   ],
   "source": [
    "cap = cv2.VideoCapture(\"detectbuoy.avi\")\n",
    "images = []\n",
    "prev_cnts = 0\n",
    "while (cap.isOpened()):\n",
    "    #check if frame read is true\n",
    "    ret, frame = cap.read()\n",
    "    if ret == False:\n",
    "        print(\"Exit!\")\n",
    "        cv2.destroyAllWindows()\n",
    "        break    \n",
    "    \n",
    "    curr_image = frame\n",
    "    img_x = curr_image.shape[0]\n",
    "    img_y = curr_image.shape[1]\n",
    "    img = curr_image[:,:,1]\n",
    "    #Take the red channel and reshape it to 1-d array of pixel intensities\n",
    "    img = np.reshape(img, (img_x*img_y,1))\n",
    "    prob = np.zeros((img.shape[0],K))\n",
    "    likelihood = np.zeros((img.shape[0],K))\n",
    "    for j in range(K):\n",
    "        #calculate the likelihood\n",
    "        prob[:,j] = updated_weights[j]*multivariate_normal.pdf(img,updated_mean[j],updated_covar[j])\n",
    "        likelihood = prob.sum(1)\n",
    "    #calculate the prob sum which is a 1d array\n",
    "    sum_prob = np.sum(prob, axis = 1)\n",
    "    pixel_probabilities = np.reshape(sum_prob,(img_x,img_y))\n",
    "    #Choose a threshold prob for assigning to the pixels\n",
    "    pixel_probabilities[pixel_probabilities>np.max(pixel_probabilities)/1.9] = 255\n",
    "    #create an empty image of size of current frame\n",
    "    output = np.zeros_like(frame)\n",
    "    #Assign the calulated probablities to every pixel in the red channel\n",
    "    output[:,:,1] = pixel_probabilities\n",
    "    #blur = cv2.GaussianBlur(output,(5,5),0)\n",
    "    #Do filtering and edge detection to detect the buoys\n",
    "    blur = cv2.medianBlur(output,5)\n",
    "    edged = cv2.Canny(blur,15,255 )\n",
    "    # cv2.imshow(\"Edge detection- Canny\",edged)\n",
    "    #Detect contours with circle shape\n",
    "    cnts,h = cv2.findContours(edged, cv2.RETR_TREE, cv2.CHAIN_APPROX_SIMPLE)\n",
    "    (cnts_sorted, boundingBoxes) = contours.sort_contours(cnts,method=\"right-to-left\")\n",
    "    hull = cv2.convexHull(cnts_sorted[0])\n",
    "\n",
    "    (x,y),radius = cv2.minEnclosingCircle(hull)\n",
    "    #if greater than a threshold radius, display the detected buoy\n",
    "\n",
    "    if  7 < radius < 7.2:\n",
    "        print(len(hull) , radius)\n",
    "        reshaped = cv2.resize(curr_image, (640, 480), interpolation=cv2.INTER_LINEAR)\n",
    "        #draw circle over the buoy\n",
    "        cv2.circle(reshaped,(int(x),int(y)),int(radius+3),(0,255,0),8)\n",
    "\n",
    "        # cv2.putText(reshaped,str(radius),(250,400),cv2.FONT_HERSHEY_PLAIN,4,[255,255,255])\n",
    "        cv2.imshow(\"green detected\",reshaped)\n",
    "        images.append(reshaped)\n",
    "\n",
    "    else:\n",
    "        reshaped = cv2.resize(curr_image,(640,480),interpolation=cv2.INTER_LINEAR)\n",
    "        cv2.imshow(\"green detected\",reshaped)\n",
    "        images.append(reshaped)\n",
    "   \n",
    "    if cv2.waitKey(10) == 27:\n",
    "        cv2.destroyAllWindows()# exit if Escape is hit\n",
    "        break\n",
    "\n",
    "#Save the video file in .avi\n",
    "out = cv2.VideoWriter('green_1D.avi', cv2.VideoWriter_fourcc(*'XVID'), 5.0, (640, 480))\n",
    "for image in images:\n",
    "    out.write(image)\n",
    "    cv2.waitKey(10)\n",
    "\n",
    "\n",
    "out.release()\n",
    "    \n",
    "cap.release()   \n"
   ]
  },
  {
   "cell_type": "code",
   "execution_count": null,
   "metadata": {},
   "outputs": [],
   "source": []
  }
 ],
 "metadata": {
  "kernelspec": {
   "display_name": "Python 3",
   "language": "python",
   "name": "python3"
  },
  "language_info": {
   "codemirror_mode": {
    "name": "ipython",
    "version": 3
   },
   "file_extension": ".py",
   "mimetype": "text/x-python",
   "name": "python",
   "nbconvert_exporter": "python",
   "pygments_lexer": "ipython3",
   "version": "3.7.6"
  }
 },
 "nbformat": 4,
 "nbformat_minor": 4
}
